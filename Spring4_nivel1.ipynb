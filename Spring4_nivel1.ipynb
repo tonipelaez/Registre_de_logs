{
 "cells": [
  {
   "cell_type": "markdown",
   "metadata": {},
   "source": [
    "## Spring 4 (nivel I)"
   ]
  },
  {
   "cell_type": "markdown",
   "metadata": {},
   "source": [
    "Primero cargaremos los datos del log y echaremos un vistazo a los datos:\n"
   ]
  },
  {
   "cell_type": "code",
   "execution_count": 8,
   "metadata": {},
   "outputs": [
    {
     "data": {
      "text/plain": [
       "'localhost 127.0.0.1 - - [23/Feb/2014:03:10:31 +0100] \"OPTIONS * HTTP/1.0\" 200 - \"-\" \"Apache (internal dummy connection)\" VLOG=-\\n'"
      ]
     },
     "execution_count": 8,
     "metadata": {},
     "output_type": "execute_result"
    }
   ],
   "source": [
    "\n",
    "# leamos el archivo\n",
    "data_txt=open(\"Web_access_log-akumenius.com.txt\",\"r\")\n",
    "\n",
    "#vemos las primeras lineas\n",
    "data_txt.readline()"
   ]
  },
  {
   "cell_type": "markdown",
   "metadata": {},
   "source": [
    "Vemos un poco más del archivo"
   ]
  },
  {
   "cell_type": "code",
   "execution_count": 9,
   "metadata": {},
   "outputs": [
    {
     "data": {
      "text/plain": [
       "['localhost 127.0.0.1 - - [23/Feb/2014:03:10:31 +0100] \"OPTIONS * HTTP/1.0\" 200 - \"-\" \"Apache (internal dummy connection)\" VLOG=-\\n',\n",
       " 'localhost 127.0.0.1 - - [23/Feb/2014:03:10:31 +0100] \"OPTIONS * HTTP/1.0\" 200 - \"-\" \"Apache (internal dummy connection)\" VLOG=-\\n',\n",
       " 'localhost 127.0.0.1 - - [23/Feb/2014:03:10:31 +0100] \"OPTIONS * HTTP/1.0\" 200 - \"-\" \"Apache (internal dummy connection)\" VLOG=-\\n',\n",
       " 'localhost 127.0.0.1 - - [23/Feb/2014:03:10:31 +0100] \"OPTIONS * HTTP/1.0\" 200 - \"-\" \"Apache (internal dummy connection)\" VLOG=-\\n',\n",
       " 'localhost 127.0.0.1 - - [23/Feb/2014:03:10:31 +0100] \"OPTIONS * HTTP/1.0\" 200 - \"-\" \"Apache (internal dummy connection)\" VLOG=-\\n',\n",
       " 'localhost 127.0.0.1 - - [23/Feb/2014:03:10:31 +0100] \"OPTIONS * HTTP/1.0\" 200 - \"-\" \"Apache (internal dummy connection)\" VLOG=-\\n',\n",
       " 'localhost 127.0.0.1 - - [23/Feb/2014:03:10:31 +0100] \"OPTIONS * HTTP/1.0\" 200 - \"-\" \"Apache (internal dummy connection)\" VLOG=-\\n',\n",
       " 'localhost 127.0.0.1 - - [23/Feb/2014:03:10:31 +0100] \"OPTIONS * HTTP/1.0\" 200 - \"-\" \"Apache (internal dummy connection)\" VLOG=-\\n']"
      ]
     },
     "execution_count": 9,
     "metadata": {},
     "output_type": "execute_result"
    }
   ],
   "source": [
    "data_txt.readlines(1000)\n",
    "# parece demasíado fácil , amplíamos un poco más la muestra"
   ]
  },
  {
   "cell_type": "code",
   "execution_count": 10,
   "metadata": {},
   "outputs": [
    {
     "data": {
      "text/plain": [
       "['localhost 127.0.0.1 - - [23/Feb/2014:03:10:31 +0100] \"OPTIONS * HTTP/1.0\" 200 - \"-\" \"Apache (internal dummy connection)\" VLOG=-\\n',\n",
       " 'localhost 127.0.0.1 - - [23/Feb/2014:03:10:31 +0100] \"OPTIONS * HTTP/1.0\" 200 - \"-\" \"Apache (internal dummy connection)\" VLOG=-\\n',\n",
       " 'localhost 127.0.0.1 - - [23/Feb/2014:03:10:31 +0100] \"OPTIONS * HTTP/1.0\" 200 - \"-\" \"Apache (internal dummy connection)\" VLOG=-\\n',\n",
       " 'localhost 127.0.0.1 - - [23/Feb/2014:03:10:31 +0100] \"OPTIONS * HTTP/1.0\" 200 - \"-\" \"Apache (internal dummy connection)\" VLOG=-\\n',\n",
       " 'localhost 127.0.0.1 - - [23/Feb/2014:03:10:31 +0100] \"OPTIONS * HTTP/1.0\" 200 - \"-\" \"Apache (internal dummy connection)\" VLOG=-\\n',\n",
       " 'localhost 127.0.0.1 - - [23/Feb/2014:03:10:31 +0100] \"OPTIONS * HTTP/1.0\" 200 - \"-\" \"Apache (internal dummy connection)\" VLOG=-\\n',\n",
       " 'localhost 127.0.0.1 - - [23/Feb/2014:03:10:31 +0100] \"OPTIONS * HTTP/1.0\" 200 - \"-\" \"Apache (internal dummy connection)\" VLOG=-\\n',\n",
       " 'localhost 127.0.0.1 - - [23/Feb/2014:03:10:31 +0100] \"OPTIONS * HTTP/1.0\" 200 - \"-\" \"Apache (internal dummy connection)\" VLOG=-\\n',\n",
       " 'localhost 127.0.0.1 - - [23/Feb/2014:03:10:31 +0100] \"OPTIONS * HTTP/1.0\" 200 - \"-\" \"Apache (internal dummy connection)\" VLOG=-\\n',\n",
       " 'localhost 127.0.0.1 - - [23/Feb/2014:03:10:31 +0100] \"OPTIONS * HTTP/1.0\" 200 - \"-\" \"Apache (internal dummy connection)\" VLOG=-\\n',\n",
       " 'localhost 127.0.0.1 - - [23/Feb/2014:03:10:31 +0100] \"OPTIONS * HTTP/1.0\" 200 - \"-\" \"Apache (internal dummy connection)\" VLOG=-\\n',\n",
       " 'localhost 127.0.0.1 - - [23/Feb/2014:03:10:31 +0100] \"OPTIONS * HTTP/1.0\" 200 - \"-\" \"Apache (internal dummy connection)\" VLOG=-\\n',\n",
       " 'localhost 127.0.0.1 - - [23/Feb/2014:03:10:31 +0100] \"OPTIONS * HTTP/1.0\" 200 - \"-\" \"Apache (internal dummy connection)\" VLOG=-\\n',\n",
       " 'www.akumenius.com 66.249.76.216 - - [23/Feb/2014:03:10:31 +0100] \"GET /hoteles-baratos/ofertas-hotel-Club-&-Hotel-Letoonia--en-Fethiye-8460b-destinos.html HTTP/1.1\" 404 3100 \"-\" \"Mozilla/5.0 (compatible; Googlebot/2.1; +http://www.google.com/bot.html)\" VLOG=-\\n',\n",
       " 'www.akumenius.com 66.249.76.216 - - [23/Feb/2014:03:10:33 +0100] \"GET /hoteles-baratos/ofertas-hotel-Metropolis-Hotel-en-Kaunas-210244b-destinos.html HTTP/1.1\" 404 3100 \"-\" \"Mozilla/5.0 (compatible; Googlebot/2.1; +http://www.google.com/bot.html)\" VLOG=-\\n',\n",
       " 'www.akumenius.com 66.249.76.216 - - [23/Feb/2014:03:10:35 +0100] \"GET /hoteles-baratos/ofertas-hotel-Faena-Hotel-Buenos-Aires-en-Downtown-129723b-destinos.html HTTP/1.1\" 404 3100 \"-\" \"Mozilla/5.0 (compatible; Googlebot/2.1; +http://www.google.com/bot.html)\" VLOG=-\\n',\n",
       " 'www.akumenius.com 66.249.76.216 - - [23/Feb/2014:03:10:38 +0100] \"GET /hoteles-baratos/ofertas-hotel-Kensington-Townhouse-London-en-Kensington-54356b-destinos.html HTTP/1.1\" 404 3100 \"-\" \"Mozilla/5.0 (compatible; Googlebot/2.1; +http://www.google.com/bot.html)\" VLOG=-\\n',\n",
       " 'www.akumenius.com 66.249.76.216 - - [23/Feb/2014:03:10:39 +0100] \"GET /destinos-baratos/destinosEstrelles/hoteles-en-Invermere_CANAD%C3%81-con-4-estrellas HTTP/1.1\" 200 8811 \"-\" \"Mozilla/5.0 (compatible; Googlebot/2.1; +http://www.google.com/bot.html)\" VLOG=-\\n',\n",
       " 'www.akumenius.com 66.249.76.216 - - [23/Feb/2014:03:10:40 +0100] \"GET /hoteles-baratos/ofertas-hotel-Howard-Jhonson-hotel-&-Spa--Villa-Gral-Belgrano-en-Villa%20General%20Belgrano-146416b-destinos.html HTTP/1.1\" 404 3100 \"-\" \"Mozilla/5.0 (compatible; Googlebot/2.1; +http://www.google.com/bot.html)\" VLOG=-\\n',\n",
       " 'www.akumenius.com 66.249.76.216 - - [23/Feb/2014:03:10:42 +0100] \"GET /hoteles-baratos/ofertas-hotel-Princesa-Sofia-en-Diagonal%20S.-4013b-destinos.html HTTP/1.1\" 404 3100 \"-\" \"Mozilla/5.0 (compatible; Googlebot/2.1; +http://www.google.com/bot.html)\" VLOG=-\\n',\n",
       " 'www.akumenius.com 66.249.76.216 - - [23/Feb/2014:03:10:45 +0100] \"GET /hoteles-baratos/ofertas-hotel-Kfar-Giladi-en-Tiberias-121085b-destinos.html HTTP/1.1\" 404 3100 \"-\" \"Mozilla/5.0 (compatible; Googlebot/2.1; +http://www.google.com/bot.html)\" VLOG=-\\n',\n",
       " 'www.akumenius.com 66.249.76.216 - - [23/Feb/2014:03:10:46 +0100] \"GET /destinos-baratos/destinosEstrelles/hoteles-en-Skanderborg_DINAMARCA-con-5-estrellas HTTP/1.1\" 200 8816 \"-\" \"Mozilla/5.0 (compatible; Googlebot/2.1; +http://www.google.com/bot.html)\" VLOG=-\\n',\n",
       " 'www.akumenius.com 66.249.76.216 - - [23/Feb/2014:03:10:47 +0100] \"GET /hoteles-baratos/ofertas-hotel-Casual-Hotel-Valencia-en-Valencia-205435b-destinos.html HTTP/1.1\" 404 3100 \"-\" \"Mozilla/5.0 (compatible; Googlebot/2.1; +http://www.google.com/bot.html)\" VLOG=-\\n',\n",
       " 'www.akumenius.com 66.249.76.216 - - [23/Feb/2014:03:10:49 +0100] \"GET /hoteles-baratos/ofertas-hotel-Lucky-2-en-Hanoi-146288b-destinos.html HTTP/1.1\" 404 3100 \"-\" \"Mozilla/5.0 (compatible; Googlebot/2.1; +http://www.google.com/bot.html)\" VLOG=-\\n',\n",
       " 'www.akumenius.com 66.249.76.216 - - [23/Feb/2014:03:10:52 +0100] \"GET /hoteles-baratos/ofertas-hotel-Natali-Torremolinos-en-Torremolinos-22598b-destinos.html HTTP/1.1\" 404 3100 \"-\" \"Mozilla/5.0 (compatible; Googlebot/2.1; +http://www.google.com/bot.html)\" VLOG=-\\n',\n",
       " 'www.akumenius.com 66.249.76.216 - - [23/Feb/2014:03:10:53 +0100] \"GET /destinos-baratos/destinosEstrelles/hoteles-en-Villarcayo_ESPA%C3%91A-con-1-estrella HTTP/1.1\" 200 8810 \"-\" \"Mozilla/5.0 (compatible; Googlebot/2.1; +http://www.google.com/bot.html)\" VLOG=-\\n']"
      ]
     },
     "execution_count": 10,
     "metadata": {},
     "output_type": "execute_result"
    }
   ],
   "source": [
    "data_txt.readlines(5000)"
   ]
  },
  {
   "cell_type": "markdown",
   "metadata": {},
   "source": [
    "Vemos que no tiene el formato csv estandard .Si intentamos cargar el archivo usando el espacio como separador.\n",
    "\n",
    "import pandas as pd\n",
    "logs_csv=pd.read_table(\"Web_access_log-akumenius.com.txt\",delimiter=\" \",header=0)\n",
    "\n",
    "obtendremos un error :"
   ]
  },
  {
   "cell_type": "markdown",
   "metadata": {},
   "source": [
    "---------------------------------------------------------------------------\n",
    "ParserError                               Traceback (most recent call last)\n",
    "\n",
    "....\n",
    "....\n",
    "\n",
    "c:\\Users\\anton\\anaconda3\\lib\\site-packages\\pandas\\_libs\\parsers.pyx in pandas._libs.parsers.TextReader._tokenize_rows()\n",
    "\n",
    "c:\\Users\\anton\\anaconda3\\lib\\site-packages\\pandas\\_libs\\parsers.pyx in pandas._libs.parsers.raise_parser_error()\n",
    "\n",
    "ParserError: Error tokenizing data. C error: Expected 12 fields in line 181474, saw 13"
   ]
  },
  {
   "cell_type": "markdown",
   "metadata": {},
   "source": [
    "Los datos no són suficientemente homogeneos para hacerlo de esta manera. Para ello usaremos las regular expresions.\n",
    "Pero antes de ello debemos entender la estructura básica del log. Buscando un poco podemos descubrir que es un archivo log de apache y definir cada uno de los campos de los que esta compuesto.(fuente : https://www.sumologic.com/blog/apache-access-log/).\n",
    "\n",
    "Analizamos una de las lineas anteriores para identificar los campos:\n"
   ]
  },
  {
   "cell_type": "markdown",
   "metadata": {},
   "source": [
    "'<span style=\"color:red\">www.akumenius.com</span><span style=\"color:blue\"> 66.249.76.216</span> - - <span style=\"color:yellow\">[23/Feb/2014:03:10:53 +0100]</span><span style=\"color:green\"><br> \"GET /destinos-baratos/destinosEstrelles/hoteles-en-Villarcayo_ESPA%C3%91A-con-1-estrella HTTP/1.1\"</span><span style=\"color:yellow\"> 200</span><span style=\"color:blue\"> 8810</span> \"-\"<span style=\"color:red\"> \"Mozilla/5.0 (compatible; Googlebot/2.1; +http://www.google.com/bot.html)\" VLOG=</span><br>-\\n']\n",
    "\n",
    "\n",
    "\n",
    "WEB:<span style=\"color:red\"> www.akumenius.com</span><br>\n",
    "IP: <span style=\"color:blue\">66.249.76.216</span><br>\n",
    "Fecha: <span style=\"color:yellow\">23/Feb/2014</span><br>\n",
    "Hora: <span style=\"color:orange\">03:10:31 +0100</span><br>\n",
    "Tipo de acceso y consulta: <span style=\"color:green\">\"GET /hoteles-baratos/ofertas-hotel-Club-&-Hotel-Letoonia--en-Fethiye-8460b-destinos.html HTTP/1.1\"</span><br>\n",
    "HTTP response status code: <span style=\"color:yellow\">404</span><br>\n",
    "Bytes transferidos: <span style=\"color:blue\">3100</span><br>\n",
    "user agent:<span style=\"color:red\">\"Mozilla/5.0 (compatible; Googlebot/2.1; +http://www.google.com/bot.html)\"</span><br>\n"
   ]
  },
  {
   "cell_type": "markdown",
   "metadata": {},
   "source": [
    "Ahora que ya tenemos una estructura , vamos montando las regEX de cada parte\n",
    "\n",
    "En realidad se podría hacer una regEx única , pero si hay cualquier formato que difiera en alguna parte de la expresión , falla todo la identificación , así que lo debemos hacer es ir buscando los grupos por separado y controlando si hay coincidencia o no."
   ]
  },
  {
   "cell_type": "markdown",
   "metadata": {},
   "source": [
    "_En este ejercicio,como demostración académica , en el algoritmo se introduce las 2 maneras para mostrar su funcionamiento._<br>\n",
    "_Es decir , se usará un <span style=\"color:green\">**if**</span> parar usar la expresión completa y en el <span style=\"color:green\">**else:**</span> se hará las búsqueda grupo por grupo._"
   ]
  },
  {
   "cell_type": "markdown",
   "metadata": {},
   "source": [
    "(*)_Antes samplearemos el archivo de trabajo del log , para que pueda ser procesable en unos tiempos razonables_\n",
    "\n"
   ]
  },
  {
   "cell_type": "code",
   "execution_count": 11,
   "metadata": {},
   "outputs": [],
   "source": [
    "import re\n",
    "import pandas as pd\n",
    "\n",
    "data_sample=data_txt.readlines(5000000)"
   ]
  },
  {
   "cell_type": "markdown",
   "metadata": {},
   "source": [
    "Nos interesan los accesos que hacen desde internet, para ello definimos un filtro para no contar con los accesos desde el localhost."
   ]
  },
  {
   "cell_type": "code",
   "execution_count": 12,
   "metadata": {},
   "outputs": [],
   "source": [
    "def filtro_localhost(linea):\n",
    "    localhost=True\n",
    "    #buscamos localhost en cada linea , si lo encuentra devuelve false.\n",
    "    if (re.findall(r\"localhost\",linea)):\n",
    "        localhost=False\n",
    "    return localhost"
   ]
  },
  {
   "cell_type": "markdown",
   "metadata": {},
   "source": []
  },
  {
   "cell_type": "code",
   "execution_count": 13,
   "metadata": {},
   "outputs": [],
   "source": [
    "\n",
    "\n",
    "log_df=pd.DataFrame()\n",
    "log_datos={}#crear dictcionarioo con campos\n",
    "\n",
    "for line in data_sample:\n",
    "    if(filtro_localhost(line)):\n",
    "    #sera True si no es localhost.Ejecutamos la preparación de la cadena de texto\n",
    "    #Primero partimos la parte de la web +IP+hora del resto y lo almacenamos en un array , para después pasarlo a un diccionario\n",
    "     \n",
    "        string_IP_Time=re.search(r\"(\\w{3}\\.\\w+\\.\\w{3})\\D+(\\d{1,3}\\.\\d{1,3}\\.\\d{1,3}\\.\\d{1,3}).+(\\d{2,2}/\\D{3,3}/\\d{4,4}):(\\d{2}:\\d{2}:\\d{2} \\+\\d{4}).+(\\\"([A-Z]{1,5}).(.+?)\\\").(\\d{3}).(\\d+).+(\\\"(.+?)\\\")\",line)\n",
    "        \n",
    "        #mirar si cumple con la separacion de la linea\n",
    "        if(string_IP_Time!=None):\n",
    "\n",
    "            log_datos[\"WEB\"]=string_IP_Time.group(1)\n",
    "            log_datos[\"IP\"]=string_IP_Time.group(2)\n",
    "            log_datos[\"Fecha\"]=string_IP_Time.group(3)\n",
    "            log_datos[\"Hora\"]=string_IP_Time.group(4)\n",
    "            log_datos[\"Tipo acceso\"]=string_IP_Time.group(6)\n",
    "            log_datos[\"local acceso\"]=string_IP_Time.group(7)\n",
    "            log_datos[\"msg http\"]=string_IP_Time.group(8)\n",
    "            log_datos[\"bytes\"]=string_IP_Time.group(9)\n",
    "            log_datos[\"boot\"]=string_IP_Time.group(11)\n",
    "            #agregamos los datos al dataframe\n",
    "            log_df=log_df.append(log_datos,ignore_index=True)\n",
    "        else:\n",
    "            #la misma separeación que antes pero ahora de forma separada\n",
    "    \n",
    "            web=re.search(r\"(\\w{3}\\.\\w+\\.\\w{3}).+\",line)\n",
    "            if(web!=None):\n",
    "                log_datos[\"WEB\"]=web.group(1)\n",
    "            else:\n",
    "                log_datos[\"WEB\"]=\"NA\"\n",
    "\n",
    "            ip=re.search(r\"(\\d{1,3}\\.\\d{1,3}\\.\\d{1,3}\\.\\d{1,3}).+\",line)\n",
    "            if(ip!=None):\n",
    "                log_datos[\"IP\"]=ip.group(1)\n",
    "            else: \n",
    "                log_datos[\"IP\"]=\"NA\"   \n",
    "\n",
    "            date=re.search(r\"(\\d{2,2}/\\D{3,3}/\\d{4,4}):.+\",line)\n",
    "            if(date!=None):\n",
    "                log_datos[\"Fecha\"]=date.group(1)\n",
    "            else:\n",
    "                log_datos[\"Fecha\"]=\"NA\"\n",
    "\n",
    "            time=re.search(r\"(\\d{2}:\\d{2}:\\d{2} \\+\\d{4}).+\",line)\n",
    "            if(time!=None):\n",
    "                log_datos[\"Hora\"]=time.group(1)\n",
    "            else:\n",
    "                log_datos[\"Hora\"]=\"NA\"\n",
    "            url=re.search(r\"(\\\"([A-Z]{1,5}).(.+?)\\\").+\",line)\n",
    "            if(url!=None):\n",
    "\n",
    "                log_datos[\"Tipo acceso\"]=url.group(2)\n",
    "                log_datos[\"local acceso\"]=url.group(3)\n",
    "            else:\n",
    "                log_datos[\"Tipo acceso\"]=\"NA\"\n",
    "                log_datos[\"local acceso\"]=\"NA\"\n",
    "\n",
    "            htp_code=re.search(r\".+\\\".(\\d{3}).(\\d+).+\",line)\n",
    "            if(htp_code!=None):\n",
    "\n",
    "                log_datos[\"msg http\"]=htp_code.group(1)\n",
    "                log_datos[\"bytes\"]=htp_code.group(2)\n",
    "            else:\n",
    "                log_datos[\"msg http\"]=\"NA\"\n",
    "                log_datos[\"bytes\"]=\"NA\"\n",
    "\n",
    "            bot=re.search(r\"(\\\"(.+?)\\\").+(\\\"(.+?)\\\")\",line)\n",
    "            if (bot!=None):\n",
    "                log_datos[\"boot\"]=bot.group(4)\n",
    "            else:\n",
    "                log_datos[\"boot\"]=\"NA\"\n",
    "        \n",
    "        log_df=log_df.append(log_datos,ignore_index=True)\n",
    "\n"
   ]
  },
  {
   "cell_type": "markdown",
   "metadata": {},
   "source": [
    "Vemos la info del dataframe obtenido."
   ]
  },
  {
   "cell_type": "code",
   "execution_count": 14,
   "metadata": {},
   "outputs": [
    {
     "name": "stdout",
     "output_type": "stream",
     "text": [
      "<class 'pandas.core.frame.DataFrame'>\n",
      "RangeIndex: 36196 entries, 0 to 36195\n",
      "Data columns (total 9 columns):\n",
      " #   Column        Non-Null Count  Dtype \n",
      "---  ------        --------------  ----- \n",
      " 0   WEB           36196 non-null  object\n",
      " 1   IP            36196 non-null  object\n",
      " 2   Fecha         36196 non-null  object\n",
      " 3   Hora          36196 non-null  object\n",
      " 4   Tipo acceso   36196 non-null  object\n",
      " 5   local acceso  36196 non-null  object\n",
      " 6   msg http      36196 non-null  object\n",
      " 7   bytes         36196 non-null  object\n",
      " 8   boot          36196 non-null  object\n",
      "dtypes: object(9)\n",
      "memory usage: 2.5+ MB\n"
     ]
    }
   ],
   "source": [
    "log_df.info()\n"
   ]
  },
  {
   "cell_type": "code",
   "execution_count": 15,
   "metadata": {},
   "outputs": [
    {
     "data": {
      "text/html": [
       "<div>\n",
       "<style scoped>\n",
       "    .dataframe tbody tr th:only-of-type {\n",
       "        vertical-align: middle;\n",
       "    }\n",
       "\n",
       "    .dataframe tbody tr th {\n",
       "        vertical-align: top;\n",
       "    }\n",
       "\n",
       "    .dataframe thead th {\n",
       "        text-align: right;\n",
       "    }\n",
       "</style>\n",
       "<table border=\"1\" class=\"dataframe\">\n",
       "  <thead>\n",
       "    <tr style=\"text-align: right;\">\n",
       "      <th></th>\n",
       "      <th>WEB</th>\n",
       "      <th>IP</th>\n",
       "      <th>Fecha</th>\n",
       "      <th>Hora</th>\n",
       "      <th>Tipo acceso</th>\n",
       "      <th>local acceso</th>\n",
       "      <th>msg http</th>\n",
       "      <th>bytes</th>\n",
       "      <th>boot</th>\n",
       "    </tr>\n",
       "  </thead>\n",
       "  <tbody>\n",
       "    <tr>\n",
       "      <th>count</th>\n",
       "      <td>36196</td>\n",
       "      <td>36196</td>\n",
       "      <td>36196</td>\n",
       "      <td>36196</td>\n",
       "      <td>36196</td>\n",
       "      <td>36196</td>\n",
       "      <td>36196</td>\n",
       "      <td>36196</td>\n",
       "      <td>36196</td>\n",
       "    </tr>\n",
       "    <tr>\n",
       "      <th>unique</th>\n",
       "      <td>9</td>\n",
       "      <td>342</td>\n",
       "      <td>1</td>\n",
       "      <td>14159</td>\n",
       "      <td>3</td>\n",
       "      <td>14220</td>\n",
       "      <td>5</td>\n",
       "      <td>4474</td>\n",
       "      <td>65</td>\n",
       "    </tr>\n",
       "    <tr>\n",
       "      <th>top</th>\n",
       "      <td>www.akumenius.com</td>\n",
       "      <td>66.249.76.216</td>\n",
       "      <td>23/Feb/2014</td>\n",
       "      <td>11:21:58 +0100</td>\n",
       "      <td>GET</td>\n",
       "      <td>/ HTTP/1.1</td>\n",
       "      <td>200</td>\n",
       "      <td>3100</td>\n",
       "      <td>Mozilla/5.0 (compatible; Googlebot/2.1; +http:...</td>\n",
       "    </tr>\n",
       "    <tr>\n",
       "      <th>freq</th>\n",
       "      <td>36150</td>\n",
       "      <td>18702</td>\n",
       "      <td>36196</td>\n",
       "      <td>56</td>\n",
       "      <td>35774</td>\n",
       "      <td>282</td>\n",
       "      <td>29526</td>\n",
       "      <td>6514</td>\n",
       "      <td>18562</td>\n",
       "    </tr>\n",
       "  </tbody>\n",
       "</table>\n",
       "</div>"
      ],
      "text/plain": [
       "                      WEB             IP        Fecha            Hora  \\\n",
       "count               36196          36196        36196           36196   \n",
       "unique                  9            342            1           14159   \n",
       "top     www.akumenius.com  66.249.76.216  23/Feb/2014  11:21:58 +0100   \n",
       "freq                36150          18702        36196              56   \n",
       "\n",
       "       Tipo acceso local acceso msg http  bytes  \\\n",
       "count        36196        36196    36196  36196   \n",
       "unique           3        14220        5   4474   \n",
       "top            GET   / HTTP/1.1      200   3100   \n",
       "freq         35774          282    29526   6514   \n",
       "\n",
       "                                                     boot  \n",
       "count                                               36196  \n",
       "unique                                                 65  \n",
       "top     Mozilla/5.0 (compatible; Googlebot/2.1; +http:...  \n",
       "freq                                                18562  "
      ]
     },
     "execution_count": 15,
     "metadata": {},
     "output_type": "execute_result"
    }
   ],
   "source": [
    "log_df.describe()"
   ]
  },
  {
   "cell_type": "code",
   "execution_count": 16,
   "metadata": {},
   "outputs": [
    {
     "data": {
      "text/html": [
       "<div>\n",
       "<style scoped>\n",
       "    .dataframe tbody tr th:only-of-type {\n",
       "        vertical-align: middle;\n",
       "    }\n",
       "\n",
       "    .dataframe tbody tr th {\n",
       "        vertical-align: top;\n",
       "    }\n",
       "\n",
       "    .dataframe thead th {\n",
       "        text-align: right;\n",
       "    }\n",
       "</style>\n",
       "<table border=\"1\" class=\"dataframe\">\n",
       "  <thead>\n",
       "    <tr style=\"text-align: right;\">\n",
       "      <th></th>\n",
       "      <th>WEB</th>\n",
       "      <th>IP</th>\n",
       "      <th>Fecha</th>\n",
       "      <th>Hora</th>\n",
       "      <th>Tipo acceso</th>\n",
       "      <th>local acceso</th>\n",
       "      <th>msg http</th>\n",
       "      <th>bytes</th>\n",
       "      <th>boot</th>\n",
       "    </tr>\n",
       "  </thead>\n",
       "  <tbody>\n",
       "    <tr>\n",
       "      <th>0</th>\n",
       "      <td>www.akumenius.com</td>\n",
       "      <td>66.249.76.216</td>\n",
       "      <td>23/Feb/2014</td>\n",
       "      <td>03:10:54 +0100</td>\n",
       "      <td>GET</td>\n",
       "      <td>/hoteles-baratos/ofertas-hotel-Hotel-Costa-del...</td>\n",
       "      <td>404</td>\n",
       "      <td>3100</td>\n",
       "      <td>Mozilla/5.0 (compatible; Googlebot/2.1; +http:...</td>\n",
       "    </tr>\n",
       "    <tr>\n",
       "      <th>1</th>\n",
       "      <td>www.akumenius.com</td>\n",
       "      <td>66.249.76.216</td>\n",
       "      <td>23/Feb/2014</td>\n",
       "      <td>03:10:54 +0100</td>\n",
       "      <td>GET</td>\n",
       "      <td>/hoteles-baratos/ofertas-hotel-Hotel-Costa-del...</td>\n",
       "      <td>404</td>\n",
       "      <td>3100</td>\n",
       "      <td>Mozilla/5.0 (compatible; Googlebot/2.1; +http:...</td>\n",
       "    </tr>\n",
       "    <tr>\n",
       "      <th>2</th>\n",
       "      <td>www.akumenius.com</td>\n",
       "      <td>5.255.253.53</td>\n",
       "      <td>23/Feb/2014</td>\n",
       "      <td>03:10:56 +0100</td>\n",
       "      <td>GET</td>\n",
       "      <td>/destinos-baratos/hoteles-baratos/ofertas-hote...</td>\n",
       "      <td>404</td>\n",
       "      <td>3100</td>\n",
       "      <td>Mozilla/5.0 (compatible; YandexBot/3.0; +http:...</td>\n",
       "    </tr>\n",
       "    <tr>\n",
       "      <th>3</th>\n",
       "      <td>www.akumenius.com</td>\n",
       "      <td>5.255.253.53</td>\n",
       "      <td>23/Feb/2014</td>\n",
       "      <td>03:10:56 +0100</td>\n",
       "      <td>GET</td>\n",
       "      <td>/destinos-baratos/hoteles-baratos/ofertas-hote...</td>\n",
       "      <td>404</td>\n",
       "      <td>3100</td>\n",
       "      <td>Mozilla/5.0 (compatible; YandexBot/3.0; +http:...</td>\n",
       "    </tr>\n",
       "    <tr>\n",
       "      <th>4</th>\n",
       "      <td>www.akumenius.com</td>\n",
       "      <td>66.249.76.216</td>\n",
       "      <td>23/Feb/2014</td>\n",
       "      <td>03:10:56 +0100</td>\n",
       "      <td>GET</td>\n",
       "      <td>/hoteles-baratos/ofertas-hotel-Quintessia-&amp;-Sp...</td>\n",
       "      <td>404</td>\n",
       "      <td>3100</td>\n",
       "      <td>Mozilla/5.0 (compatible; Googlebot/2.1; +http:...</td>\n",
       "    </tr>\n",
       "  </tbody>\n",
       "</table>\n",
       "</div>"
      ],
      "text/plain": [
       "                 WEB             IP        Fecha            Hora Tipo acceso  \\\n",
       "0  www.akumenius.com  66.249.76.216  23/Feb/2014  03:10:54 +0100         GET   \n",
       "1  www.akumenius.com  66.249.76.216  23/Feb/2014  03:10:54 +0100         GET   \n",
       "2  www.akumenius.com   5.255.253.53  23/Feb/2014  03:10:56 +0100         GET   \n",
       "3  www.akumenius.com   5.255.253.53  23/Feb/2014  03:10:56 +0100         GET   \n",
       "4  www.akumenius.com  66.249.76.216  23/Feb/2014  03:10:56 +0100         GET   \n",
       "\n",
       "                                        local acceso msg http bytes  \\\n",
       "0  /hoteles-baratos/ofertas-hotel-Hotel-Costa-del...      404  3100   \n",
       "1  /hoteles-baratos/ofertas-hotel-Hotel-Costa-del...      404  3100   \n",
       "2  /destinos-baratos/hoteles-baratos/ofertas-hote...      404  3100   \n",
       "3  /destinos-baratos/hoteles-baratos/ofertas-hote...      404  3100   \n",
       "4  /hoteles-baratos/ofertas-hotel-Quintessia-&-Sp...      404  3100   \n",
       "\n",
       "                                                boot  \n",
       "0  Mozilla/5.0 (compatible; Googlebot/2.1; +http:...  \n",
       "1  Mozilla/5.0 (compatible; Googlebot/2.1; +http:...  \n",
       "2  Mozilla/5.0 (compatible; YandexBot/3.0; +http:...  \n",
       "3  Mozilla/5.0 (compatible; YandexBot/3.0; +http:...  \n",
       "4  Mozilla/5.0 (compatible; Googlebot/2.1; +http:...  "
      ]
     },
     "execution_count": 16,
     "metadata": {},
     "output_type": "execute_result"
    }
   ],
   "source": [
    "log_df.head()\n"
   ]
  },
  {
   "cell_type": "markdown",
   "metadata": {},
   "source": [
    "Analizamos el campo _WEB_ por separado."
   ]
  },
  {
   "cell_type": "code",
   "execution_count": 17,
   "metadata": {},
   "outputs": [],
   "source": [
    "web=log_df[\"WEB\"]\n"
   ]
  },
  {
   "cell_type": "code",
   "execution_count": 18,
   "metadata": {},
   "outputs": [
    {
     "data": {
      "text/plain": [
       "count                 36196\n",
       "unique                    9\n",
       "top       www.akumenius.com\n",
       "freq                  36150\n",
       "Name: WEB, dtype: object"
      ]
     },
     "execution_count": 18,
     "metadata": {},
     "output_type": "execute_result"
    }
   ],
   "source": [
    "web.describe()\n"
   ]
  },
  {
   "cell_type": "code",
   "execution_count": 19,
   "metadata": {},
   "outputs": [
    {
     "data": {
      "text/plain": [
       "array(['www.akumenius.com', '220.181.108', 'www.bing.com', 'NA',\n",
       "       '119.63.193', 'www.google.com', 'www.baidu.com', '218.30.103',\n",
       "       'rch.msn.com'], dtype=object)"
      ]
     },
     "execution_count": 19,
     "metadata": {},
     "output_type": "execute_result"
    }
   ],
   "source": [
    "web.unique()"
   ]
  },
  {
   "cell_type": "markdown",
   "metadata": {},
   "source": []
  },
  {
   "cell_type": "markdown",
   "metadata": {},
   "source": [
    "Vemos que hay algunas lineas que estan mal separadas , ya que tenemos datos IP en el campo _WEB_ .\n",
    "Vamos a filtrar quitando los valores que no coinciden con lo esperado en el campo _WEB_"
   ]
  },
  {
   "cell_type": "code",
   "execution_count": 20,
   "metadata": {},
   "outputs": [],
   "source": [
    "for x in log_df.index:\n",
    "    if (log_df.loc[x,\"WEB\"]!='www.akumenius.com'):\n",
    "        log_df.drop(x,inplace=True)"
   ]
  },
  {
   "cell_type": "code",
   "execution_count": 21,
   "metadata": {},
   "outputs": [
    {
     "data": {
      "text/html": [
       "<div>\n",
       "<style scoped>\n",
       "    .dataframe tbody tr th:only-of-type {\n",
       "        vertical-align: middle;\n",
       "    }\n",
       "\n",
       "    .dataframe tbody tr th {\n",
       "        vertical-align: top;\n",
       "    }\n",
       "\n",
       "    .dataframe thead th {\n",
       "        text-align: right;\n",
       "    }\n",
       "</style>\n",
       "<table border=\"1\" class=\"dataframe\">\n",
       "  <thead>\n",
       "    <tr style=\"text-align: right;\">\n",
       "      <th></th>\n",
       "      <th>WEB</th>\n",
       "      <th>IP</th>\n",
       "      <th>Fecha</th>\n",
       "      <th>Hora</th>\n",
       "      <th>Tipo acceso</th>\n",
       "      <th>local acceso</th>\n",
       "      <th>msg http</th>\n",
       "      <th>bytes</th>\n",
       "      <th>boot</th>\n",
       "    </tr>\n",
       "  </thead>\n",
       "  <tbody>\n",
       "    <tr>\n",
       "      <th>count</th>\n",
       "      <td>36150</td>\n",
       "      <td>36150</td>\n",
       "      <td>36150</td>\n",
       "      <td>36150</td>\n",
       "      <td>36150</td>\n",
       "      <td>36150</td>\n",
       "      <td>36150</td>\n",
       "      <td>36150</td>\n",
       "      <td>36150</td>\n",
       "    </tr>\n",
       "    <tr>\n",
       "      <th>unique</th>\n",
       "      <td>1</td>\n",
       "      <td>330</td>\n",
       "      <td>1</td>\n",
       "      <td>14132</td>\n",
       "      <td>3</td>\n",
       "      <td>14211</td>\n",
       "      <td>4</td>\n",
       "      <td>4471</td>\n",
       "      <td>65</td>\n",
       "    </tr>\n",
       "    <tr>\n",
       "      <th>top</th>\n",
       "      <td>www.akumenius.com</td>\n",
       "      <td>66.249.76.216</td>\n",
       "      <td>23/Feb/2014</td>\n",
       "      <td>11:21:58 +0100</td>\n",
       "      <td>GET</td>\n",
       "      <td>/ HTTP/1.1</td>\n",
       "      <td>200</td>\n",
       "      <td>3100</td>\n",
       "      <td>Mozilla/5.0 (compatible; Googlebot/2.1; +http:...</td>\n",
       "    </tr>\n",
       "    <tr>\n",
       "      <th>freq</th>\n",
       "      <td>36150</td>\n",
       "      <td>18702</td>\n",
       "      <td>36150</td>\n",
       "      <td>56</td>\n",
       "      <td>35728</td>\n",
       "      <td>261</td>\n",
       "      <td>29526</td>\n",
       "      <td>6514</td>\n",
       "      <td>18558</td>\n",
       "    </tr>\n",
       "  </tbody>\n",
       "</table>\n",
       "</div>"
      ],
      "text/plain": [
       "                      WEB             IP        Fecha            Hora  \\\n",
       "count               36150          36150        36150           36150   \n",
       "unique                  1            330            1           14132   \n",
       "top     www.akumenius.com  66.249.76.216  23/Feb/2014  11:21:58 +0100   \n",
       "freq                36150          18702        36150              56   \n",
       "\n",
       "       Tipo acceso local acceso msg http  bytes  \\\n",
       "count        36150        36150    36150  36150   \n",
       "unique           3        14211        4   4471   \n",
       "top            GET   / HTTP/1.1      200   3100   \n",
       "freq         35728          261    29526   6514   \n",
       "\n",
       "                                                     boot  \n",
       "count                                               36150  \n",
       "unique                                                 65  \n",
       "top     Mozilla/5.0 (compatible; Googlebot/2.1; +http:...  \n",
       "freq                                                18558  "
      ]
     },
     "execution_count": 21,
     "metadata": {},
     "output_type": "execute_result"
    }
   ],
   "source": [
    "log_df.describe()"
   ]
  },
  {
   "cell_type": "markdown",
   "metadata": {},
   "source": [
    "Vemos que hay un 10% aprox de líneas mal separadas. Para continuar usaré un archivo csv obtenido de aplicar las regular expresions al archivo log original. "
   ]
  },
  {
   "cell_type": "code",
   "execution_count": 22,
   "metadata": {},
   "outputs": [
    {
     "name": "stdout",
     "output_type": "stream",
     "text": [
      "<class 'pandas.core.frame.DataFrame'>\n",
      "RangeIndex: 116360 entries, 0 to 116359\n",
      "Data columns (total 10 columns):\n",
      " #   Column        Non-Null Count   Dtype \n",
      "---  ------        --------------   ----- \n",
      " 0   Unnamed: 0    116360 non-null  int64 \n",
      " 1   WEB           116360 non-null  object\n",
      " 2   IP            116360 non-null  object\n",
      " 3   Fecha         116360 non-null  object\n",
      " 4   Hora          116360 non-null  object\n",
      " 5   Tipo acceso   116360 non-null  object\n",
      " 6   local acceso  116360 non-null  object\n",
      " 7   msg http      116360 non-null  int64 \n",
      " 8   bytes         116360 non-null  int64 \n",
      " 9   boot          116360 non-null  object\n",
      "dtypes: int64(3), object(7)\n",
      "memory usage: 8.9+ MB\n"
     ]
    }
   ],
   "source": [
    "\n",
    "df=pd.read_csv(\"log_exp.csv\")\n",
    "df.info()"
   ]
  },
  {
   "cell_type": "markdown",
   "metadata": {},
   "source": [
    "Vemos que partimos de una muestra de 116360 \n",
    "Procedemos como con el dataframe sample anterior"
   ]
  },
  {
   "cell_type": "code",
   "execution_count": 23,
   "metadata": {},
   "outputs": [
    {
     "data": {
      "text/plain": [
       "array(['www.akumenius.com', 'www.bing.com', 'www.google.com',\n",
       "       '249.76.191', 'www.baidu.com', '193.116.190', 'est.akumenius.com',\n",
       "       '220.181.108', '119.63.193', '157.56.229', '125.71.222',\n",
       "       '195.128.174', '108.168.250', '213.251.189', 'rch.msn.com',\n",
       "       '144.76.183', '193.43.252', '187.48.112', '193.120.106',\n",
       "       '193.110.219', '188.165.195', '109.205.137', '188.40.249',\n",
       "       '178.110.118', '237.100.185', '165.21.153', '226.40.145',\n",
       "       '208.88.225', '103.65.162', 'com.apple.Map'], dtype=object)"
      ]
     },
     "execution_count": 23,
     "metadata": {},
     "output_type": "execute_result"
    }
   ],
   "source": [
    "df[\"WEB\"].unique()"
   ]
  },
  {
   "cell_type": "code",
   "execution_count": 24,
   "metadata": {},
   "outputs": [],
   "source": [
    "for x in df.index:\n",
    "    if (df.loc[x,\"WEB\"]!='www.akumenius.com'):\n",
    "        df.drop(x,inplace=True)"
   ]
  },
  {
   "cell_type": "code",
   "execution_count": 25,
   "metadata": {},
   "outputs": [
    {
     "name": "stdout",
     "output_type": "stream",
     "text": [
      "<class 'pandas.core.frame.DataFrame'>\n",
      "Int64Index: 112556 entries, 0 to 116359\n",
      "Data columns (total 10 columns):\n",
      " #   Column        Non-Null Count   Dtype \n",
      "---  ------        --------------   ----- \n",
      " 0   Unnamed: 0    112556 non-null  int64 \n",
      " 1   WEB           112556 non-null  object\n",
      " 2   IP            112556 non-null  object\n",
      " 3   Fecha         112556 non-null  object\n",
      " 4   Hora          112556 non-null  object\n",
      " 5   Tipo acceso   112556 non-null  object\n",
      " 6   local acceso  112556 non-null  object\n",
      " 7   msg http      112556 non-null  int64 \n",
      " 8   bytes         112556 non-null  int64 \n",
      " 9   boot          112556 non-null  object\n",
      "dtypes: int64(3), object(7)\n",
      "memory usage: 13.5+ MB\n"
     ]
    }
   ],
   "source": [
    "df.info()"
   ]
  },
  {
   "cell_type": "markdown",
   "metadata": {},
   "source": [
    "Vemos que con la muestra ampliada vemos que el ratio de error es más bajo que en el sample que haíamos cogido antes. Por lo tanto , a primera vista podemos dar por bueno las reg Ex para poder normalizar el archivo log.\n",
    "Ahora podríamos hacer un sample para trabajar y normalizar los datos .Por ejemplo en el tipo de acceso podemos ver los diferentes tipos "
   ]
  },
  {
   "cell_type": "code",
   "execution_count": 26,
   "metadata": {},
   "outputs": [
    {
     "data": {
      "text/plain": [
       "array(['GET', 'POST', 'HEAD'], dtype=object)"
      ]
     },
     "execution_count": 26,
     "metadata": {},
     "output_type": "execute_result"
    }
   ],
   "source": [
    "df[\"Tipo acceso\"].unique()"
   ]
  },
  {
   "cell_type": "markdown",
   "metadata": {},
   "source": [
    "A partir de aqui podríamos procesar los datos según nuestro ínteres en los datos , tal como hemos hecho en ejercicios anteriores."
   ]
  }
 ],
 "metadata": {
  "interpreter": {
   "hash": "7a4880536bc750f262d1b458e4fd4d611315d3098d58b77bd9c89b3237b9ab47"
  },
  "kernelspec": {
   "display_name": "Python 3.9.7 ('base')",
   "language": "python",
   "name": "python3"
  },
  "language_info": {
   "codemirror_mode": {
    "name": "ipython",
    "version": 3
   },
   "file_extension": ".py",
   "mimetype": "text/x-python",
   "name": "python",
   "nbconvert_exporter": "python",
   "pygments_lexer": "ipython3",
   "version": "3.9.7"
  },
  "orig_nbformat": 4
 },
 "nbformat": 4,
 "nbformat_minor": 2
}
